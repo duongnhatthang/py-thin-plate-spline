{
 "cells": [
  {
   "cell_type": "markdown",
   "id": "05874afd-6013-4bd1-be6e-b9bfdfd4edb9",
   "metadata": {
    "tags": []
   },
   "source": [
    "## Import"
   ]
  },
  {
   "cell_type": "code",
   "execution_count": null,
   "id": "9f9efac0-22bd-4083-9737-e3f5bec07dbb",
   "metadata": {},
   "outputs": [],
   "source": [
    "%load_ext autoreload\n",
    "%autoreload 2\n",
    "%matplotlib inline\n",
    "import matplotlib as mpl\n",
    "mpl.rcParams['figure.figsize'] = [14, 14]\n",
    "mpl.rcParams['figure.dpi'] = 72\n",
    "\n",
    "import matplotlib.pyplot as plt\n",
    "import cv2\n",
    "import json\n",
    "import numpy as np\n",
    "from shadow_utils import cut_mask, mask_to_shadow, create_gradient_shadow_alpha_mask, match_legs_ARAP, restore_mask"
   ]
  },
  {
   "cell_type": "code",
   "execution_count": null,
   "id": "73db5b52-c95d-4ad2-a355-27cbe9a83bd9",
   "metadata": {},
   "outputs": [],
   "source": [
    "img_name=\"timecity_01886_none\"\n",
    "org_img = cv2.imread(f'./svm_for_shadow_generation/images/{img_name}.jpg')\n",
    "org_mask = cv2.imread(f'./svm_for_shadow_generation/masks/{img_name}.jpg')\n",
    "data = json.load(open(f'./svm_for_shadow_generation/leg_pos/{img_name}.json', \"r\"))\n",
    "leg_coordinates = np.zeros((1,4,2)) # leg positions\n",
    "for i in range(4):\n",
    "    leg_coordinates[0][i] = data['shapes'][i]['points'][0]\n",
    "\n",
    "is_vertical_flip = True"
   ]
  },
  {
   "cell_type": "code",
   "execution_count": null,
   "id": "8705b29c-3cc6-4818-adcd-b06762c8a2d5",
   "metadata": {
    "tags": []
   },
   "outputs": [],
   "source": [
    "# Cut the mask into a squared patch (around the object) for some transformation\n",
    "mask, cut_info = cut_mask(org_mask)\n",
    "new_l, new_t = cut_info\n",
    "new_leg_coordinates = np.copy(leg_coordinates)\n",
    "new_leg_coordinates[0,:,0]-=new_l\n",
    "new_leg_coordinates[0,:,1]-=new_t\n",
    "\n",
    "# Either [-30,-20] or [-50,-40] seems ok\n",
    "shadow_mask, all_matrix = mask_to_shadow(mask, new_leg_coordinates, rot_rd_low=-30,\n",
    "                                         rot_rd_high=-20,\n",
    "                                         is_vertical_flip=is_vertical_flip)\n",
    "plt.imshow(shadow_mask)"
   ]
  },
  {
   "cell_type": "markdown",
   "id": "077f1739-e4fc-4874-afde-de6b71e54ba4",
   "metadata": {},
   "source": [
    "## Using TPS code to match legs (Legacy)"
   ]
  },
  {
   "cell_type": "code",
   "execution_count": null,
   "id": "6d03a4ff-ca58-4f2d-accb-562d3ae28bf6",
   "metadata": {},
   "outputs": [],
   "source": [
    "# from shadow_utils import match_legs_TPS\n",
    "# while True:\n",
    "#     shadow_mask_out = match_legs_TPS(shadow_mask, leg_coordinates, rotate_matrix, -0.05, 0.05)\n",
    "#     l,r,t,b = get_mask_bbox(shadow_mask_out)\n",
    "#     if l>0 and t>0 and r<shadow_mask.shape[1]-1 and b<shadow_mask.shape[0]-1:\n",
    "#         shadow_mask = shadow_mask_out\n",
    "#         break\n",
    "# pad_warped_shadow_mask = restore_mask(org_mask, shadow_mask, cut_info)"
   ]
  },
  {
   "cell_type": "markdown",
   "id": "c8c79fa9-8c46-4666-9bc2-d4c7f1fbd0e0",
   "metadata": {},
   "source": [
    "## Using ARAP (As Rigid As Possible) to match legs"
   ]
  },
  {
   "cell_type": "code",
   "execution_count": null,
   "id": "1e5586cd-b060-47ab-be13-cfdf2d7dfbae",
   "metadata": {},
   "outputs": [],
   "source": [
    "image_rgb = cv2.cvtColor(255-shadow_mask, cv2.COLOR_BGR2RGB)\n",
    "mask_gray = cv2.cvtColor(shadow_mask, cv2.COLOR_BGR2GRAY)\n",
    "src_pts = cv2.perspectiveTransform(new_leg_coordinates, all_matrix)[0]\n",
    "deformed_image = match_legs_ARAP(image_rgb, mask_gray, src_pts, new_leg_coordinates)\n",
    "\n",
    "# Recover original image size\n",
    "pad_warped_shadow_mask = restore_mask(org_mask, 255-deformed_image, cut_info)"
   ]
  },
  {
   "cell_type": "code",
   "execution_count": null,
   "id": "8566303d-e842-4ade-b20d-b0c299e6761a",
   "metadata": {},
   "outputs": [],
   "source": [
    "alpha = create_gradient_shadow_alpha_mask(pad_warped_shadow_mask, \n",
    "                                          rd_low=0, rd_high=10,\n",
    "                                          is_vertical_flip=is_vertical_flip,\n",
    "                                          speed=12, overflow=1.2, offset=120)\n",
    "revert_shadow_mask=cv2.subtract(org_img,pad_warped_shadow_mask)\n",
    "\n",
    "# Convert uint8 to float\n",
    "revert_shadow_mask_f = revert_shadow_mask.astype(float)\n",
    "img_f = org_img.astype(float)\n",
    "\n",
    "# Multiply the foreground with the alpha matte\n",
    "foreground_shadow = cv2.multiply(alpha, revert_shadow_mask_f)\n",
    "\n",
    "# Multiply the background with ( 1 - alpha )\n",
    "background_img = cv2.multiply(1.0 - alpha, img_f)\n",
    "\n",
    "# Add the masked foreground and background.\n",
    "shadow_on_top = cv2.add(foreground_shadow, background_img)\n",
    "shadow_on_top = shadow_on_top.astype('uint8')\n",
    "\n",
    "org_background=cv2.subtract(org_img,org_mask)\n",
    "cut_obj=cv2.subtract(org_img,org_background)\n",
    "\n",
    "final_background=cv2.subtract(shadow_on_top,org_mask)\n",
    "final_img = cut_obj+final_background\n",
    "# plt.imshow(shadow_on_top[...,::-1])\n",
    "# plt.axis('off')\n",
    "plt.imshow(final_img[...,::-1])\n",
    "\n",
    "# idx = \"flip\"\n",
    "# cv2.imwrite(f'{img_name}_{idx}.png', final_img)"
   ]
  },
  {
   "cell_type": "code",
   "execution_count": null,
   "id": "cca19d9e-6511-4a01-9fc1-e4895bd23749",
   "metadata": {},
   "outputs": [],
   "source": []
  }
 ],
 "metadata": {
  "kernelspec": {
   "display_name": "Python 3 (ipykernel)",
   "language": "python",
   "name": "python3"
  },
  "language_info": {
   "codemirror_mode": {
    "name": "ipython",
    "version": 3
   },
   "file_extension": ".py",
   "mimetype": "text/x-python",
   "name": "python",
   "nbconvert_exporter": "python",
   "pygments_lexer": "ipython3",
   "version": "3.9.12"
  }
 },
 "nbformat": 4,
 "nbformat_minor": 5
}
