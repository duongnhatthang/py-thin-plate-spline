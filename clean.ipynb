{
 "cells": [
  {
   "cell_type": "markdown",
   "id": "05874afd-6013-4bd1-be6e-b9bfdfd4edb9",
   "metadata": {
    "tags": []
   },
   "source": [
    "## Import"
   ]
  },
  {
   "cell_type": "code",
   "execution_count": null,
   "id": "9f9efac0-22bd-4083-9737-e3f5bec07dbb",
   "metadata": {},
   "outputs": [],
   "source": [
    "%load_ext autoreload\n",
    "%autoreload 2\n",
    "%matplotlib inline\n",
    "\n",
    "import matplotlib.pyplot as plt\n",
    "import cv2\n",
    "import json\n",
    "import numpy as np\n",
    "from utils import *"
   ]
  },
  {
   "cell_type": "code",
   "execution_count": null,
   "id": "73db5b52-c95d-4ad2-a355-27cbe9a83bd9",
   "metadata": {},
   "outputs": [],
   "source": [
    "img_name=\"timecity_01886_none\"\n",
    "img = cv2.imread(f'./svm_for_shadow_generation/images/{img_name}.jpg')\n",
    "org_mask = cv2.imread(f'./svm_for_shadow_generation/masks/{img_name}.jpg')\n",
    "data = json.load(open(f'./svm_for_shadow_generation/leg_pos/{img_name}.json', \"r\"))\n",
    "fixed_points = np.zeros((1,4,2)) # leg positions\n",
    "for i in range(4):\n",
    "    fixed_points[0][i] = data['shapes'][i]['points'][0]"
   ]
  },
  {
   "cell_type": "code",
   "execution_count": null,
   "id": "a7867de4-8d17-43c6-a8de-8ea0d2b4112c",
   "metadata": {
    "tags": []
   },
   "outputs": [],
   "source": [
    "is_match_legs = True\n",
    "if is_match_legs is False:\n",
    "    is_vertical_flip = np.random.choice(a=[False, True])\n",
    "else:\n",
    "    is_vertical_flip = False\n",
    "\n",
    "if is_match_legs is True and is_vertical_flip is True:\n",
    "    assert False, \"Can not flip shadow while matching legs with TPS\"\n",
    "\n",
    "plt.imshow(cv2.cvtColor(img, cv2.COLOR_BGR2RGB))\n",
    "background=cv2.subtract(img,org_mask)\n",
    "cut_obj=cv2.subtract(img,background)"
   ]
  },
  {
   "cell_type": "code",
   "execution_count": null,
   "id": "8705b29c-3cc6-4818-adcd-b06762c8a2d5",
   "metadata": {},
   "outputs": [],
   "source": [
    "# Cut the mask so width == height to process with mask_to_shadow => get_rotate_matrix\n",
    "# TODO: the rot_rd_high >30 might make the shadow too large compared to the original shadow\n",
    "mask, cut_info = cut_mask(org_mask)\n",
    "shadow_mask, rotate_matrix, trans_matrix = mask_to_shadow(mask, rot_rd_low=10,\n",
    "                                                          rot_rd_high=20,\n",
    "                                                          is_vertical_flip=is_vertical_flip,\n",
    "                                                          match_legs=is_match_legs)\n",
    "plt.imshow(shadow_mask[...,::-1])"
   ]
  },
  {
   "cell_type": "code",
   "execution_count": null,
   "id": "a6b611a1-cecb-4699-9429-1be9f2f4d7a1",
   "metadata": {},
   "outputs": [],
   "source": [
    "if match_legs: #using TPS\n",
    "    while True:\n",
    "        shadow_mask_out = match_legs(shadow_mask, fixed_points, rotate_matrix, -0.05, 0.05)\n",
    "        l,r,t,b = get_mask_bbox(shadow_mask_out)\n",
    "        if l>0 and t>0 and r<shadow_mask.shape[1]-1 and b<shadow_mask.shape[0]-1:\n",
    "            shadow_mask = shadow_mask_out\n",
    "            break\n",
    "        else:\n",
    "            print(\"shadow touch edges\")\n",
    "            break\n",
    "\n",
    "# Recover original image size\n",
    "pad_warped_shadow_mask = restore_mask(org_mask, shadow_mask, cut_info)\n",
    "plt.imshow(pad_warped_shadow_mask[...,::-1])"
   ]
  },
  {
   "cell_type": "code",
   "execution_count": null,
   "id": "8566303d-e842-4ade-b20d-b0c299e6761a",
   "metadata": {},
   "outputs": [],
   "source": [
    "alpha = create_gradient_shadow_alpha_mask(pad_warped_shadow_mask, \n",
    "                                          rd_low=500, rd_high=580,\n",
    "                                          is_vertical_flip=is_vertical_flip)\n",
    "revert_shadow_mask=cv2.subtract(img,pad_warped_shadow_mask)\n",
    "\n",
    "# Convert uint8 to float\n",
    "revert_shadow_mask_f = revert_shadow_mask.astype(float)\n",
    "img_f = img.astype(float)\n",
    "\n",
    "# Multiply the foreground with the alpha matte\n",
    "foreground_shadow = cv2.multiply(alpha, revert_shadow_mask_f)\n",
    "\n",
    "# Multiply the background with ( 1 - alpha )\n",
    "background_img = cv2.multiply(1.0 - alpha, img_f)\n",
    "\n",
    "# Add the masked foreground and background.\n",
    "shadow_on_top = cv2.add(foreground_shadow, background_img)\n",
    "shadow_on_top = shadow_on_top.astype('uint8')\n",
    "\n",
    "final_background=cv2.subtract(shadow_on_top,org_mask)\n",
    "final_img = cut_obj+final_background\n",
    "# plt.imshow(shadow_on_top[...,::-1])\n",
    "plt.axis('off')\n",
    "plt.imshow(final_img[...,::-1])\n",
    "\n",
    "idx = \"01\"\n",
    "cv2.imwrite(f'{img_name}_{idx}_merge.png', final_img)\n",
    "cv2.imwrite(f'{img_name}_{idx}_alpha.png', alpha*255)\n",
    "cv2.imwrite(f'{img_name}_{idx}_shadow_mask.png', pad_warped_shadow_mask)"
   ]
  },
  {
   "cell_type": "code",
   "execution_count": null,
   "id": "5fca40b8-08bc-45ac-a399-7b88830f81d3",
   "metadata": {},
   "outputs": [],
   "source": []
  }
 ],
 "metadata": {
  "kernelspec": {
   "display_name": "Python 3 (ipykernel)",
   "language": "python",
   "name": "python3"
  },
  "language_info": {
   "codemirror_mode": {
    "name": "ipython",
    "version": 3
   },
   "file_extension": ".py",
   "mimetype": "text/x-python",
   "name": "python",
   "nbconvert_exporter": "python",
   "pygments_lexer": "ipython3",
   "version": "3.7.13"
  }
 },
 "nbformat": 4,
 "nbformat_minor": 5
}
